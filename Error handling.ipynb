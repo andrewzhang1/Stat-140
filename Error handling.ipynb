{
 "cells": [
  {
   "cell_type": "code",
   "execution_count": 3,
   "metadata": {
    "collapsed": false
   },
   "outputs": [],
   "source": [
    "import sys, traceback\n",
    "error_state_changed = False\n",
    "current_state = \"Simple\"\n",
    "previous_widget = None\n",
    "#from IPython.core import ultratb\n",
    "def custom_exc(shell, etype, evalue, tb, tb_offset=None):\n",
    "    \n",
    "    def simple_traceback():\n",
    "        print(\"Exception reporting mode: Simple\")\n",
    "        \n",
    "        # Makes the output red\n",
    "        print(\"\\x1b[31m\\n---------------------------------------------------------------------------\\x1b[0m\")\n",
    "        trace = traceback.format_exception(etype, evalue, tb=None,\n",
    "                              limit=2)\n",
    "        for line in trace:\n",
    "            print(\"\\x1b[31m\", line, \"\\x1b[0m\")\n",
    "        \n",
    "        \n",
    "    if not error_state_changed:\n",
    "        simple_traceback()\n",
    "    else:\n",
    "        shell.showtraceback((etype, evalue, tb), tb_offset=tb_offset)\n",
    "    \n",
    "    from ipywidgets import Dropdown\n",
    "    import ipywidgets as widgets\n",
    "    from IPython.display import display, clear_output\n",
    "\n",
    "    \n",
    "    def on_value_change(value):\n",
    "        \n",
    "        clear_output()\n",
    "        global error_state_changed, current_state\n",
    "        error_state_changed = True\n",
    "        current_state = value[\"new\"]\n",
    "        if (current_state == \"Simple\"):\n",
    "            simple_traceback()\n",
    "        else:\n",
    "            get_ipython().magic(\"xmode \" + value[\"new\"])\n",
    "            shell.showtraceback((etype, evalue, tb), tb_offset=tb_offset)\n",
    "\n",
    "    selector = widgets.Dropdown(description='Error Specificity', \n",
    "                                options=[\"Simple\", \"Context\", \"Plain\", \"Verbose\"])\n",
    "    selector.selected_label = current_state\n",
    "    selector.observe(on_value_change, names='value')\n",
    "    global previous_widget\n",
    "    if not previous_widget == None:\n",
    "        previous_widget.close()\n",
    "    previous_widget = selector\n",
    "    display(selector)\n",
    "    \n",
    "    #sys.excepthook = ultratb.FormattedTB(mode='Verbose', color_scheme='Linux', call_pdb=1)\n",
    "    #shell.showtraceback((etype, evalue, tb), tb_offset=tb_offset)\n",
    "\n",
    "# Set custom exceptiong handling\n",
    "get_ipython().set_custom_exc((Exception,), custom_exc)"
   ]
  },
  {
   "cell_type": "code",
   "execution_count": 2,
   "metadata": {
    "collapsed": false,
    "scrolled": false
   },
   "outputs": [
    {
     "name": "stdout",
     "output_type": "stream",
     "text": [
      "Exception reporting mode: Simple\n",
      "\u001b[31m\n",
      "---------------------------------------------------------------------------\u001b[0m\n",
      "\u001b[31m ZeroDivisionError: float division by zero\n",
      " \u001b[0m\n"
     ]
    }
   ],
   "source": [
    "def f(x):\n",
    "    return 1.0/(x-1)\n",
    "\n",
    "def g(y):\n",
    "    return f(y+1)\n",
    "\n",
    "g(0)"
   ]
  },
  {
   "cell_type": "code",
   "execution_count": 1,
   "metadata": {
    "collapsed": false,
    "scrolled": true
   },
   "outputs": [
    {
     "ename": "ZeroDivisionError",
     "evalue": "division by zero",
     "output_type": "error",
     "traceback": [
      "\u001b[0;31m---------------------------------------------------------------------------\u001b[0m",
      "\u001b[0;31mZeroDivisionError\u001b[0m                         Traceback (most recent call last)",
      "\u001b[0;32m<ipython-input-1-05c9758a9c21>\u001b[0m in \u001b[0;36m<module>\u001b[0;34m()\u001b[0m\n\u001b[0;32m----> 1\u001b[0;31m \u001b[0;36m1\u001b[0m\u001b[0;34m/\u001b[0m\u001b[0;36m0\u001b[0m\u001b[0;34m\u001b[0m\u001b[0m\n\u001b[0m",
      "\u001b[0;31mZeroDivisionError\u001b[0m: division by zero"
     ]
    }
   ],
   "source": [
    "1/0"
   ]
  },
  {
   "cell_type": "code",
   "execution_count": 3,
   "metadata": {
    "collapsed": false,
    "scrolled": true
   },
   "outputs": [
    {
     "name": "stdout",
     "output_type": "stream",
     "text": [
      "Exception reporting mode: Simple\n",
      "\u001b[31m\n",
      "---------------------------------------------------------------------------\u001b[0m\n",
      "\u001b[31m   File \"<ipython-input-4-91e454eba04c>\", line 1\n",
      " \u001b[0m\n",
      "\u001b[31m     for\n",
      " \u001b[0m\n",
      "\u001b[31m       ^\n",
      " \u001b[0m\n",
      "\u001b[31m SyntaxError: invalid syntax\n",
      " \u001b[0m\n"
     ]
    }
   ],
   "source": [
    "for"
   ]
  },
  {
   "cell_type": "code",
   "execution_count": null,
   "metadata": {
    "collapsed": true
   },
   "outputs": [],
   "source": []
  }
 ],
 "metadata": {
  "anaconda-cloud": {},
  "kernelspec": {
   "display_name": "Python 3",
   "language": "python",
   "name": "python3"
  },
  "language_info": {
   "codemirror_mode": {
    "name": "ipython",
    "version": 3
   },
   "file_extension": ".py",
   "mimetype": "text/x-python",
   "name": "python",
   "nbconvert_exporter": "python",
   "pygments_lexer": "ipython3",
   "version": "3.5.2"
  }
 },
 "nbformat": 4,
 "nbformat_minor": 0
}
