{
 "cells": [
  {
   "cell_type": "code",
   "execution_count": null,
   "metadata": {
    "collapsed": false
   },
   "outputs": [],
   "source": [
    "import sys\n",
    "errorStateChanged = False \n",
    "#from IPython.core import ultratb\n",
    "def custom_exc(shell, etype, evalue, tb, tb_offset=None):\n",
    "    \n",
    "    if not errorStateChanged:\n",
    "        print (\"Error:\", evalue)\n",
    "    else:\n",
    "        shell.showtraceback((etype, evalue, tb), tb_offset=tb_offset)\n",
    "    \n",
    "    from ipywidgets import Dropdown\n",
    "    import ipywidgets as widgets\n",
    "    from IPython.display import display, clear_output\n",
    "\n",
    "    def on_value_change(value):\n",
    "        errorStateChanged = True\n",
    "        clear_output()\n",
    "        if (value[\"new\"] == \"Simple\"):\n",
    "            print (\"Error:\", evalue)\n",
    "        else:\n",
    "            get_ipython().magic(\"xmode \" + value[\"new\"])\n",
    "            shell.showtraceback((etype, evalue, tb), tb_offset=tb_offset)\n",
    "\n",
    "    selector = widgets.Dropdown(description='Error Specificity', options=[\"simple\", \"context\", \"plain\", \"verbose\"])\n",
    "    selector.observe(on_value_change, names='value')\n",
    "    display(selector)\n",
    "    \n",
    "    #sys.excepthook = ultratb.FormattedTB(mode='Verbose', color_scheme='Linux', call_pdb=1)\n",
    "    #shell.showtraceback((etype, evalue, tb), tb_offset=tb_offset)\n",
    "\n",
    "# Set custom exceptiong handling\n",
    "get_ipython().set_custom_exc((Exception,), custom_exc)\n"
   ]
  },
  {
   "cell_type": "code",
   "execution_count": null,
   "metadata": {
    "collapsed": false
   },
   "outputs": [],
   "source": [
    "def f(x):\n",
    "    return 1.0/(x-1)\n",
    "\n",
    "def g(y):\n",
    "    return f(y+1)\n",
    "\n",
    "g(0)"
   ]
  }
 ],
 "metadata": {
  "anaconda-cloud": {},
  "kernelspec": {
   "display_name": "Python [Root]",
   "language": "python",
   "name": "Python [Root]"
  },
  "language_info": {
   "codemirror_mode": {
    "name": "ipython",
    "version": 3
   },
   "file_extension": ".py",
   "mimetype": "text/x-python",
   "name": "python",
   "nbconvert_exporter": "python",
   "pygments_lexer": "ipython3",
   "version": "3.5.2"
  }
 },
 "nbformat": 4,
 "nbformat_minor": 0
}
