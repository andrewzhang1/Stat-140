{
 "cells": [
  {
   "cell_type": "code",
   "execution_count": null,
   "metadata": {
    "collapsed": false
   },
   "outputs": [],
   "source": [
    "import sys\n",
    "error_state_changed = False\n",
    "current_state = \"Simple\"\n",
    "previous_widget = None\n",
    "#from IPython.core import ultratb\n",
    "def custom_exc(shell, etype, evalue, tb, tb_offset=None):\n",
    "    \n",
    "    def simple_traceback():\n",
    "        print (\"Exception reporting mode: Simple\")\n",
    "        print (\"Error type: \", etype.__name__)\n",
    "        print (\"Error message: \", evalue)\n",
    "        \n",
    "    if not error_state_changed:\n",
    "        simple_traceback()\n",
    "    else:\n",
    "        shell.showtraceback((etype, evalue, tb), tb_offset=tb_offset)\n",
    "    \n",
    "    from ipywidgets import Dropdown\n",
    "    import ipywidgets as widgets\n",
    "    from IPython.display import display, clear_output\n",
    "\n",
    "    \n",
    "    def on_value_change(value):\n",
    "        \n",
    "        clear_output()\n",
    "        global error_state_changed, current_state\n",
    "        error_state_changed = True\n",
    "        current_state = value[\"new\"]\n",
    "        if (current_state == \"Simple\"):\n",
    "            simple_traceback()\n",
    "        else:\n",
    "            get_ipython().magic(\"xmode \" + value[\"new\"])\n",
    "            shell.showtraceback((etype, evalue, tb), tb_offset=tb_offset)\n",
    "\n",
    "    selector = widgets.Dropdown(description='Error Specificity', \n",
    "                                options=[\"Simple\", \"Context\", \"Plain\", \"Verbose\"])\n",
    "    selector.selected_label = current_state\n",
    "    selector.observe(on_value_change, names='value')\n",
    "    global previous_widget\n",
    "    if not previous_widget == None:\n",
    "        previous_widget.close()\n",
    "    previous_widget = selector\n",
    "    display(selector)\n",
    "    \n",
    "    #sys.excepthook = ultratb.FormattedTB(mode='Verbose', color_scheme='Linux', call_pdb=1)\n",
    "    #shell.showtraceback((etype, evalue, tb), tb_offset=tb_offset)\n",
    "\n",
    "# Set custom exceptiong handling\n",
    "get_ipython().set_custom_exc((Exception,), custom_exc)"
   ]
  },
  {
   "cell_type": "code",
   "execution_count": null,
   "metadata": {
    "collapsed": false,
    "scrolled": false
   },
   "outputs": [],
   "source": [
    "def f(x):\n",
    "    return 1.0/(x-1)\n",
    "\n",
    "def g(y):\n",
    "    return f(y+1)\n",
    "\n",
    "g(0)"
   ]
  }
 ],
 "metadata": {
  "anaconda-cloud": {},
  "kernelspec": {
   "display_name": "Python 3",
   "language": "python",
   "name": "python3"
  },
  "language_info": {
   "codemirror_mode": {
    "name": "ipython",
    "version": 3
   },
   "file_extension": ".py",
   "mimetype": "text/x-python",
   "name": "python",
   "nbconvert_exporter": "python",
   "pygments_lexer": "ipython3",
   "version": "3.5.1"
  }
 },
 "nbformat": 4,
 "nbformat_minor": 0
}
